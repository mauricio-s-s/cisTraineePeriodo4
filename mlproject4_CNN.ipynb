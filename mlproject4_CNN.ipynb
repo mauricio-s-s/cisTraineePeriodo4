{
  "nbformat": 4,
  "nbformat_minor": 0,
  "metadata": {
    "colab": {
      "provenance": []
    },
    "kernelspec": {
      "name": "python3",
      "display_name": "Python 3"
    },
    "language_info": {
      "name": "python"
    }
  },
  "cells": [
    {
      "cell_type": "code",
      "execution_count": 15,
      "metadata": {
        "id": "4fjqUaxiAB9D"
      },
      "outputs": [],
      "source": [
        "import tensorflow as tf\n",
        "from sklearn.datasets import load_sample_image\n",
        "import numpy as np\n",
        "import matplotlib.pyplot as plt\n",
        "from tensorflow import keras\n",
        "import os"
      ]
    },
    {
      "cell_type": "code",
      "source": [
        "batch_size = 32\n",
        "img_height = 128\n",
        "img_width = 128"
      ],
      "metadata": {
        "id": "bbToi-P-GT8d"
      },
      "execution_count": 106,
      "outputs": []
    },
    {
      "cell_type": "code",
      "source": [
        "model = keras.models.Sequential([\n",
        "    keras.layers.Conv2D(32, (3,3), activation=\"relu\", padding=\"same\", input_shape=[img_height, img_width, 3]),\n",
        "    keras.layers.MaxPooling2D(pool_size = (2, 2)),\n",
        "    keras.layers.Conv2D(64, (3,3), activation=\"relu\", padding=\"same\"),\n",
        "    keras.layers.Conv2D(64, (3,3), activation=\"relu\", padding=\"same\"),\n",
        "    keras.layers.MaxPooling2D(pool_size = (2, 2)),\n",
        "    keras.layers.Conv2D(128, (3,3), activation=\"relu\", padding=\"same\"),\n",
        "    keras.layers.Conv2D(128, (3,3), activation=\"relu\", padding=\"same\"),\n",
        "    keras.layers.MaxPooling2D(pool_size = (2, 2)),\n",
        "    keras.layers.Flatten(),\n",
        "    keras.layers.Dense(128, activation=\"relu\"),\n",
        "    keras.layers.Dropout(0.5),\n",
        "    keras.layers.Dense(64, activation=\"relu\"),\n",
        "    keras.layers.Dropout(0.5),\n",
        "    keras.layers.Dense(3, activation=\"softmax\")\n",
        "])\n"
      ],
      "metadata": {
        "id": "uzCSHOtmAGk_"
      },
      "execution_count": 108,
      "outputs": []
    },
    {
      "cell_type": "code",
      "source": [
        "# Compilando a rede\n",
        "model.compile(optimizer = 'adam', loss = 'sparse_categorical_crossentropy', metrics = ['accuracy'])"
      ],
      "metadata": {
        "id": "sf312NeyT1kO"
      },
      "execution_count": 109,
      "outputs": []
    },
    {
      "cell_type": "code",
      "source": [
        "from google.colab import drive\n",
        "drive.mount('/content/gdrive')"
      ],
      "metadata": {
        "colab": {
          "base_uri": "https://localhost:8080/"
        },
        "id": "Et1Od8vkIWcv",
        "outputId": "741ab8e9-77c4-4974-a764-fd63521d926b"
      },
      "execution_count": 80,
      "outputs": [
        {
          "output_type": "stream",
          "name": "stdout",
          "text": [
            "Drive already mounted at /content/gdrive; to attempt to forcibly remount, call drive.mount(\"/content/gdrive\", force_remount=True).\n"
          ]
        }
      ]
    },
    {
      "cell_type": "code",
      "source": [
        "# Criando os objetos train_datagen e validation_datagen com as regras de pré-processamento das imagens\n",
        "from keras.preprocessing.image import ImageDataGenerator\n",
        "\n",
        "train_datagen = ImageDataGenerator(rescale = 1./255,\n",
        "                                   shear_range = 0.2,\n",
        "                                   zoom_range = 0.2,\n",
        "                                   horizontal_flip = True)\n",
        "\n",
        "validation_datagen = ImageDataGenerator(rescale = 1./255)"
      ],
      "metadata": {
        "id": "xGxaeaR5PNK3"
      },
      "execution_count": 110,
      "outputs": []
    },
    {
      "cell_type": "code",
      "source": [
        "# Pré-processamento das imagens de treino e validação\n",
        "training_set = train_datagen.flow_from_directory('datasets/dataset_treino',\n",
        "                                                 target_size = (img_height, img_width),\n",
        "                                                 batch_size = batch_size,\n",
        "                                                 class_mode = 'binary')\n",
        "\n",
        "validation_set = validation_datagen.flow_from_directory('datasets/dataset_validation',\n",
        "                                                        target_size = (img_height, img_width),\n",
        "                                                        batch_size = batch_size,\n",
        "                                                        class_mode = 'binary')"
      ],
      "metadata": {
        "colab": {
          "base_uri": "https://localhost:8080/"
        },
        "id": "9JcpYnY_P1AP",
        "outputId": "46d8da19-7ffd-4eaa-dce4-eda031baff34"
      },
      "execution_count": 111,
      "outputs": [
        {
          "output_type": "stream",
          "name": "stdout",
          "text": [
            "Found 3000 images belonging to 3 classes.\n",
            "Found 0 images belonging to 0 classes.\n"
          ]
        }
      ]
    },
    {
      "cell_type": "code",
      "source": [
        "class_names = training_set.classes\n",
        "print(class_names)\n",
        "print(np.unique(class_names))"
      ],
      "metadata": {
        "colab": {
          "base_uri": "https://localhost:8080/"
        },
        "id": "jwQvuGdM82y4",
        "outputId": "8f02c626-f2bd-427f-ea42-118284de8e1d"
      },
      "execution_count": 112,
      "outputs": [
        {
          "output_type": "stream",
          "name": "stdout",
          "text": [
            "[0 0 0 ... 2 2 2]\n",
            "[0 1 2]\n"
          ]
        }
      ]
    },
    {
      "cell_type": "code",
      "source": [
        "\"\"\"\n",
        "batch_size = 32\n",
        "img_height = 64\n",
        "img_width = 64\n",
        "epochs = 5\n",
        "\"\"\"\n",
        "\n",
        "\n",
        "# Executando o treinamento (esse processo pode levar bastante tempo, dependendo do seu computador)\n",
        "model.fit_generator(training_set, #steps_per_epoch = 8000,\n",
        "                    epochs = 5,\n",
        "                    validation_data = validation_set,\n",
        "                    validation_steps = 2000)"
      ],
      "metadata": {
        "colab": {
          "base_uri": "https://localhost:8080/"
        },
        "id": "AUQlikP_TrRG",
        "outputId": "7439a52a-18c6-404c-bc89-e93d407f84c2"
      },
      "execution_count": 97,
      "outputs": [
        {
          "output_type": "stream",
          "name": "stdout",
          "text": [
            "Epoch 1/5\n"
          ]
        },
        {
          "output_type": "stream",
          "name": "stderr",
          "text": [
            "<ipython-input-97-e622d0a56a43>:2: UserWarning: `Model.fit_generator` is deprecated and will be removed in a future version. Please use `Model.fit`, which supports generators.\n",
            "  model.fit_generator(training_set,\n"
          ]
        },
        {
          "output_type": "stream",
          "name": "stdout",
          "text": [
            "94/94 [==============================] - 50s 528ms/step - loss: 0.8117 - accuracy: 0.5730\n",
            "Epoch 2/5\n",
            "94/94 [==============================] - 42s 446ms/step - loss: 0.7584 - accuracy: 0.5860\n",
            "Epoch 3/5\n",
            "94/94 [==============================] - 46s 479ms/step - loss: 0.7425 - accuracy: 0.5967\n",
            "Epoch 4/5\n",
            "94/94 [==============================] - 44s 470ms/step - loss: 0.7190 - accuracy: 0.6197\n",
            "Epoch 5/5\n",
            "94/94 [==============================] - 43s 461ms/step - loss: 0.6866 - accuracy: 0.6323\n"
          ]
        },
        {
          "output_type": "execute_result",
          "data": {
            "text/plain": [
              "<keras.callbacks.History at 0x7eff37684760>"
            ]
          },
          "metadata": {},
          "execution_count": 97
        }
      ]
    },
    {
      "cell_type": "code",
      "source": [
        "\"\"\"\n",
        "batch_size = 32\n",
        "img_height = 128\n",
        "img_width = 128\n",
        "epochs = 10\n",
        "\"\"\"\n",
        "\n",
        "# Executando o treinamento (esse processo pode levar bastante tempo, dependendo do seu computador)\n",
        "model.fit_generator(training_set, #steps_per_epoch = 8000,\n",
        "                    epochs = 10,\n",
        "                    validation_data = validation_set,\n",
        "                    validation_steps = 2000)"
      ],
      "metadata": {
        "colab": {
          "base_uri": "https://localhost:8080/"
        },
        "id": "_EZQdlYdHaH9",
        "outputId": "12bf2135-9456-4c65-f2fc-61e6ac3ff618"
      },
      "execution_count": 113,
      "outputs": [
        {
          "output_type": "stream",
          "name": "stderr",
          "text": [
            "<ipython-input-113-ffdc53676cad>:9: UserWarning: `Model.fit_generator` is deprecated and will be removed in a future version. Please use `Model.fit`, which supports generators.\n",
            "  model.fit_generator(training_set, #steps_per_epoch = 8000,\n"
          ]
        },
        {
          "output_type": "stream",
          "name": "stdout",
          "text": [
            "Epoch 1/10\n",
            "94/94 [==============================] - 344s 4s/step - loss: 0.9995 - accuracy: 0.4720\n",
            "Epoch 2/10\n",
            "94/94 [==============================] - 345s 4s/step - loss: 0.8435 - accuracy: 0.5630\n",
            "Epoch 3/10\n",
            "94/94 [==============================] - 337s 4s/step - loss: 0.8213 - accuracy: 0.5807\n",
            "Epoch 4/10\n",
            "94/94 [==============================] - 339s 4s/step - loss: 0.7489 - accuracy: 0.6157\n",
            "Epoch 5/10\n",
            "94/94 [==============================] - 342s 4s/step - loss: 0.7444 - accuracy: 0.6060\n",
            "Epoch 6/10\n",
            "94/94 [==============================] - 337s 4s/step - loss: 0.7054 - accuracy: 0.6190\n",
            "Epoch 7/10\n",
            "94/94 [==============================] - 340s 4s/step - loss: 0.6777 - accuracy: 0.6430\n",
            "Epoch 8/10\n",
            "94/94 [==============================] - 339s 4s/step - loss: 0.6616 - accuracy: 0.6533\n",
            "Epoch 9/10\n",
            "94/94 [==============================] - 346s 4s/step - loss: 0.6481 - accuracy: 0.6713\n",
            "Epoch 10/10\n",
            "94/94 [==============================] - 340s 4s/step - loss: 0.6520 - accuracy: 0.6757\n"
          ]
        },
        {
          "output_type": "execute_result",
          "data": {
            "text/plain": [
              "<keras.callbacks.History at 0x7eff33952c50>"
            ]
          },
          "metadata": {},
          "execution_count": 113
        }
      ]
    }
  ]
}